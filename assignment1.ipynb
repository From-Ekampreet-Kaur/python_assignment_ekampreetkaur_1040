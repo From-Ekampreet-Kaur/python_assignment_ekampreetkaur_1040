{
  "nbformat": 4,
  "nbformat_minor": 0,
  "metadata": {
    "colab": {
      "provenance": [],
      "authorship_tag": "ABX9TyM6B4WFW5pzn6QsNizi5cpG",
      "include_colab_link": true
    },
    "kernelspec": {
      "name": "python3",
      "display_name": "Python 3"
    },
    "language_info": {
      "name": "python"
    }
  },
  "cells": [
    {
      "cell_type": "markdown",
      "metadata": {
        "id": "view-in-github",
        "colab_type": "text"
      },
      "source": [
        "<a href=\"https://colab.research.google.com/github/From-Ekampreet-Kaur/python_assignment_ekampreetkaur_1040/blob/main/assignment1.ipynb\" target=\"_parent\"><img src=\"https://colab.research.google.com/assets/colab-badge.svg\" alt=\"Open In Colab\"/></a>"
      ]
    },
    {
      "cell_type": "markdown",
      "source": [],
      "metadata": {
        "id": "3opQ3f9WqNv2"
      }
    },
    {
      "cell_type": "markdown",
      "source": [
        "question 1(a): To swap two numbers using a temporary variable\n"
      ],
      "metadata": {
        "id": "Ap0DU52nqTeq"
      }
    },
    {
      "cell_type": "code",
      "source": [
        "a = 5\n",
        "b = 3\n",
        "temp = a\n",
        "a = b\n",
        "b = temp\n",
        "print(a, b)"
      ],
      "metadata": {
        "id": "T4Wt2W3PqkLH"
      },
      "execution_count": null,
      "outputs": []
    },
    {
      "cell_type": "markdown",
      "source": [
        "(b): without the temporary viraible"
      ],
      "metadata": {
        "id": "vnKwgLzQq-tk"
      }
    },
    {
      "cell_type": "code",
      "source": [
        "a = 6\n",
        "b = 8\n",
        "a = a + b\n",
        "b = a - b\n",
        "a = a - b\n",
        "print(a, b)"
      ],
      "metadata": {
        "id": "audgC_h8rOUB"
      },
      "execution_count": null,
      "outputs": []
    },
    {
      "cell_type": "markdown",
      "source": [
        "question 2: to make a square of number 6 using 6 x 6 number pattern"
      ],
      "metadata": {
        "id": "TI7Gskeer1Q4"
      }
    },
    {
      "cell_type": "code",
      "source": [
        "for i in range(6):\n",
        "    print('6 ' * 6)"
      ],
      "metadata": {
        "id": "slPzWkyTBe-d"
      },
      "execution_count": null,
      "outputs": []
    },
    {
      "cell_type": "markdown",
      "source": [
        "Question 3: Program to calculate the factorial of a number using a loop"
      ],
      "metadata": {
        "id": "i4tAuBpA-ylG"
      }
    },
    {
      "cell_type": "code",
      "source": [
        "num = int(input(\"enter a number: \"))\n",
        "result = 1\n",
        "i = 1\n",
        "while i <= num:\n",
        "    result *= i\n",
        "    print(f\"factorial is {result}\")\n",
        "    i += 1"
      ],
      "metadata": {
        "id": "UWFs1e1WtkeV"
      },
      "execution_count": null,
      "outputs": []
    },
    {
      "cell_type": "markdown",
      "source": [
        "question 3(b): program to stimulate a simple password system\n"
      ],
      "metadata": {
        "id": "zWgHTP8f_syc"
      }
    },
    {
      "cell_type": "code",
      "source": [
        "userpassword = input(\"enter the password:\")\n",
        "i = 1\n",
        "while i <= 3 :\n",
        "    if userpassword == \"admin123\":\n",
        "        print(\"Access granted\")\n",
        "        break\n",
        "    else:\n",
        "        print(\"Access denied\")\n",
        "        i += 1\n",
        "        if i <= 3:\n",
        "            userpassword = input(\"enter the password:\")\n"
      ],
      "metadata": {
        "id": "OAjl1TJSBME6"
      },
      "execution_count": null,
      "outputs": []
    }
  ]
}