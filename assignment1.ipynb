{
  "nbformat": 4,
  "nbformat_minor": 0,
  "metadata": {
    "colab": {
      "provenance": [],
      "authorship_tag": "ABX9TyM6B4WFW5pzn6QsNizi5cpG",
      "include_colab_link": true
    },
    "kernelspec": {
      "name": "python3",
      "display_name": "Python 3"
    },
    "language_info": {
      "name": "python"
    }
  },
  "cells": [
    {
      "cell_type": "markdown",
      "metadata": {
        "id": "view-in-github",
        "colab_type": "text"
      },
      "source": [
        "<a href=\"https://colab.research.google.com/github/From-Ekampreet-Kaur/python_assignment_ekampreetkaur_1040/blob/main/assignment1.ipynb\" target=\"_parent\"><img src=\"https://colab.research.google.com/assets/colab-badge.svg\" alt=\"Open In Colab\"/></a>"
      ]
    },
    {
      "cell_type": "markdown",
      "source": [],
      "metadata": {
        "id": "3opQ3f9WqNv2"
      }
    },
    {
      "cell_type": "markdown",
      "source": [
        "question 1(a): To swap two numbers using a temporary variable\n"
      ],
      "metadata": {
        "id": "Ap0DU52nqTeq"
      }
    },
    {
      "cell_type": "code",
      "source": [
        "a = 5\n",
        "b = 3\n",
        "temp = a\n",
        "a = b\n",
        "b = temp\n",
        "print(a, b)"
      ],
      "metadata": {
        "id": "T4Wt2W3PqkLH",
        "colab": {
          "base_uri": "https://localhost:8080/"
        },
        "outputId": "b61fc93f-37ea-44b8-d371-b0a58142eee3"
      },
      "execution_count": 1,
      "outputs": [
        {
          "output_type": "stream",
          "name": "stdout",
          "text": [
            "3 5\n"
          ]
        }
      ]
    },
    {
      "cell_type": "markdown",
      "source": [
        "(b): without the temporary viraible"
      ],
      "metadata": {
        "id": "vnKwgLzQq-tk"
      }
    },
    {
      "cell_type": "code",
      "source": [
        "a = 6\n",
        "b = 8\n",
        "a = a + b\n",
        "b = a - b\n",
        "a = a - b\n",
        "print(a, b)"
      ],
      "metadata": {
        "id": "audgC_h8rOUB",
        "colab": {
          "base_uri": "https://localhost:8080/"
        },
        "outputId": "888bf134-27c7-4deb-bd6e-ae4df58d4739"
      },
      "execution_count": 2,
      "outputs": [
        {
          "output_type": "stream",
          "name": "stdout",
          "text": [
            "8 6\n"
          ]
        }
      ]
    },
    {
      "cell_type": "markdown",
      "source": [
        "question 2: to make a square of number 6 using 6 x 6 number pattern"
      ],
      "metadata": {
        "id": "TI7Gskeer1Q4"
      }
    },
    {
      "cell_type": "code",
      "source": [
        "for i in range(6):\n",
        "    print('6 ' * 6)"
      ],
      "metadata": {
        "id": "slPzWkyTBe-d",
        "colab": {
          "base_uri": "https://localhost:8080/"
        },
        "outputId": "89f5f1d4-5775-4ef6-c1cb-c4435f79a372"
      },
      "execution_count": 3,
      "outputs": [
        {
          "output_type": "stream",
          "name": "stdout",
          "text": [
            "6 6 6 6 6 6 \n",
            "6 6 6 6 6 6 \n",
            "6 6 6 6 6 6 \n",
            "6 6 6 6 6 6 \n",
            "6 6 6 6 6 6 \n",
            "6 6 6 6 6 6 \n"
          ]
        }
      ]
    },
    {
      "cell_type": "markdown",
      "source": [
        "Question 3: Program to calculate the factorial of a number using a loop"
      ],
      "metadata": {
        "id": "i4tAuBpA-ylG"
      }
    },
    {
      "cell_type": "code",
      "source": [
        "num = int(input(\"enter a number: \"))\n",
        "result = 1\n",
        "i = 1\n",
        "while i <= num:\n",
        "    result *= i\n",
        "    print(f\"factorial is {result}\")\n",
        "    i += 1"
      ],
      "metadata": {
        "id": "UWFs1e1WtkeV",
        "colab": {
          "base_uri": "https://localhost:8080/"
        },
        "outputId": "a47761e2-6862-49ad-ae14-07ecada8162f"
      },
      "execution_count": 4,
      "outputs": [
        {
          "output_type": "stream",
          "name": "stdout",
          "text": [
            "enter a number: 9\n",
            "factorial is 1\n",
            "factorial is 2\n",
            "factorial is 6\n",
            "factorial is 24\n",
            "factorial is 120\n",
            "factorial is 720\n",
            "factorial is 5040\n",
            "factorial is 40320\n",
            "factorial is 362880\n"
          ]
        }
      ]
    },
    {
      "cell_type": "markdown",
      "source": [
        "question 3(b): program to stimulate a simple password system\n"
      ],
      "metadata": {
        "id": "zWgHTP8f_syc"
      }
    },
    {
      "cell_type": "code",
      "source": [
        "userpassword = input(\"enter the password:\")\n",
        "i = 1\n",
        "while i <= 3 :\n",
        "    if userpassword == \"admin123\":\n",
        "        print(\"Access granted\")\n",
        "        break\n",
        "    else:\n",
        "        print(\"Access denied\")\n",
        "        i += 1\n",
        "        if i <= 3:\n",
        "            userpassword = input(\"enter the password:\")\n"
      ],
      "metadata": {
        "id": "OAjl1TJSBME6",
        "colab": {
          "base_uri": "https://localhost:8080/"
        },
        "outputId": "9eb8f497-f7c5-4937-8adf-d88ff0f5b984"
      },
      "execution_count": 5,
      "outputs": [
        {
          "output_type": "stream",
          "name": "stdout",
          "text": [
            "enter the password:python123\n",
            "Access denied\n",
            "enter the password:python12\n",
            "Access denied\n",
            "enter the password:admin123\n",
            "Access granted\n"
          ]
        }
      ]
    }
  ]
}